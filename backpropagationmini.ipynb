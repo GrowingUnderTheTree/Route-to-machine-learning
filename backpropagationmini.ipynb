{
  "nbformat": 4,
  "nbformat_minor": 0,
  "metadata": {
    "colab": {
      "provenance": [],
      "authorship_tag": "ABX9TyPlMPGgrX0f71u3wH9iOX4Q",
      "include_colab_link": true
    },
    "kernelspec": {
      "name": "python3",
      "display_name": "Python 3"
    },
    "language_info": {
      "name": "python"
    }
  },
  "cells": [
    {
      "cell_type": "markdown",
      "metadata": {
        "id": "view-in-github",
        "colab_type": "text"
      },
      "source": [
        "<a href=\"https://colab.research.google.com/github/GrowingUnderTheTree/Route-to-machine-learning/blob/main/backpropagationmini.ipynb\" target=\"_parent\"><img src=\"https://colab.research.google.com/assets/colab-badge.svg\" alt=\"Open In Colab\"/></a>"
      ]
    },
    {
      "cell_type": "code",
      "execution_count": null,
      "metadata": {
        "id": "F44pL1426Sqa"
      },
      "outputs": [],
      "source": [
        "import math\n",
        "x1 = 0.05\n",
        "x2 = 0.10\n",
        "w1 = 0.10\n",
        "w2 = 0.15\n",
        "w3 = 0.20\n",
        "w4 = 0.25\n",
        "w5 = 0.30\n",
        "w6 = 0.35\n",
        "w7 = 0.40\n",
        "w8 = 0.45\n",
        "b1 = 0.35\n",
        "b2 = 0.60\n",
        "t1 = 0.01\n",
        "t2 = 0.99\n",
        "x = 1\n",
        "def sigmoid(num):\n",
        "  stuff = 1/ (1 + (1/math.exp(num)))\n",
        "  return stuff\n",
        "def sigmoida(num):\n",
        "  stuff = 1/ (1 + (1/math.exp(-num)))\n",
        "  return stuff\n",
        "def updateweight(wgh):\n",
        "  ans = wgh - (lr * errorweight)\n",
        "  return ans\n",
        "def updateweightfront(wgh):\n",
        "  ans = wgh - (lr * errorweightforhidden)\n",
        "  return ans\n",
        "for i in range(15000):\n",
        "  x = x + 1\n",
        "  print('Epoch : ', x)\n",
        "  h1 = (x1 * w1) + (x2 * w2) + b1\n",
        "  h1final = sigmoid(h1)\n",
        "  h2 = (x1 * w3) + (x2 * w4) + b1\n",
        "  h2final = sigmoida(h2)\n",
        "  y1 = (h1final * w5) + (h2final * w6) + b2\n",
        "  y2 = (h1final * w7) + (h2final * w8) + b2\n",
        "  y1final = sigmoid(y1)\n",
        "  print('Output(1) (Target 0.01): ', y1final)\n",
        "  y2final = sigmoida(y2)\n",
        "  print('Output 2 (Target 0.99): ', y2final)\n",
        "  totalerror = (0.5 * (t1 - y1final) * (t1 - y1final)) + (0.5 * (t2 - y2final) * (t2 - y2final))\n",
        "  errorweight = (-1 * (t1 - y1final)) * (y1final * (1 - y1final)) * h1final\n",
        "  lr = 0.5\n",
        "  w5 = updateweight(w5)\n",
        "  w6 = updateweight(w6)\n",
        "  w7 = updateweight(w7)\n",
        "  w8 = updateweight(w8)\n",
        "  deeE1y1 = 2 * 0.5 * (t1 - y1final) * -1 * (y1final * (1 - y1final))\n",
        "  deeE2y2 = 2 * 0.5 * (t2 - y2final) * -1 * (y2final * (1 - y2final))\n",
        "  deeE1h1 = deeE1y1 * w5\n",
        "  deeE2h2 = deeE2y2 * w7\n",
        "  deetotaloverdeefinal = deeE1h1 + deeE2y2\n",
        "  deeh1f1 = h1final * (1 - h1final)\n",
        "  deeh1w1 = x1\n",
        "  errorweightforhidden = deetotaloverdeefinal * deeh1f1 * deeh1w1\n",
        "  w1 = updateweightfront(w1)\n",
        "  w2 = updateweightfront(w2)\n",
        "  w3 = updateweightfront(w3)\n",
        "  w4 = updateweightfront(w4)\n"
      ]
    },
    {
      "cell_type": "code",
      "source": [],
      "metadata": {
        "id": "DMOEq9QNjIAO"
      },
      "execution_count": null,
      "outputs": []
    }
  ]
}