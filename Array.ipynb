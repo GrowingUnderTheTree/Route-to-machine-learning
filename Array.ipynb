{
  "nbformat": 4,
  "nbformat_minor": 0,
  "metadata": {
    "colab": {
      "name": "Array.ipynb",
      "provenance": []
    },
    "kernelspec": {
      "name": "python3",
      "display_name": "Python 3"
    },
    "language_info": {
      "name": "python"
    }
  },
  "cells": [
    {
      "cell_type": "code",
      "metadata": {
        "id": "aH7AwxcoF51s"
      },
      "source": [
        "import numpy as np\n",
        "import matplotlib.pyplot as plt"
      ],
      "execution_count": 18,
      "outputs": []
    },
    {
      "cell_type": "markdown",
      "metadata": {
        "id": "Ovi40WuGGBHt"
      },
      "source": [
        "Zero dimensional"
      ]
    },
    {
      "cell_type": "code",
      "metadata": {
        "id": "lmaE75C-F80P"
      },
      "source": [
        "a = np.array(69)"
      ],
      "execution_count": 5,
      "outputs": []
    },
    {
      "cell_type": "markdown",
      "metadata": {
        "id": "vDctVXGHGWsJ"
      },
      "source": [
        "One dimensional"
      ]
    },
    {
      "cell_type": "code",
      "metadata": {
        "id": "Mji5d9LUGV7c"
      },
      "source": [
        "b = np.array([69,42,24,96])\n",
        "b1 = np.array([34,24,21,90])"
      ],
      "execution_count": 12,
      "outputs": []
    },
    {
      "cell_type": "markdown",
      "metadata": {
        "id": "dtA0voQaGd38"
      },
      "source": [
        "Two dimensional"
      ]
    },
    {
      "cell_type": "code",
      "metadata": {
        "id": "GcDJZjzXGKBy"
      },
      "source": [
        "c = np.array([[1,3,2],[6,1,9]])"
      ],
      "execution_count": 13,
      "outputs": []
    },
    {
      "cell_type": "markdown",
      "metadata": {
        "id": "bwES40iTGyVn"
      },
      "source": [
        "Three dimensional"
      ]
    },
    {
      "cell_type": "code",
      "metadata": {
        "id": "W8RZ5UtsGlwO"
      },
      "source": [
        "d = np.array([[[1,2,3],[7,9,2],[8,3,7],[9,1,3]]])"
      ],
      "execution_count": 14,
      "outputs": []
    },
    {
      "cell_type": "markdown",
      "metadata": {
        "id": "uVOv7iGKJONu"
      },
      "source": [
        "Code to check the dimension"
      ]
    },
    {
      "cell_type": "code",
      "metadata": {
        "colab": {
          "base_uri": "https://localhost:8080/"
        },
        "id": "3QMjCpweHApu",
        "outputId": "b5a7eb55-19c3-4038-958c-325118af3033"
      },
      "source": [
        "print(a.ndim)\n",
        "print(b.ndim)\n",
        "print(b1.ndim)\n",
        "print(c.ndim)\n",
        "print(d.ndim)"
      ],
      "execution_count": 16,
      "outputs": [
        {
          "output_type": "stream",
          "name": "stdout",
          "text": [
            "0\n",
            "1\n",
            "1\n",
            "2\n",
            "3\n"
          ]
        }
      ]
    },
    {
      "cell_type": "markdown",
      "metadata": {
        "id": "xABztiOTKkNe"
      },
      "source": [
        "Creating a plot based on the 1D array"
      ]
    },
    {
      "cell_type": "code",
      "metadata": {
        "colab": {
          "base_uri": "https://localhost:8080/",
          "height": 283
        },
        "id": "e-Wcr9csJfxN",
        "outputId": "307acd9a-0a7d-470f-a024-8600bbf8860b"
      },
      "source": [
        "plt.plot(b,b1, color = 'hotpink')"
      ],
      "execution_count": 24,
      "outputs": [
        {
          "output_type": "execute_result",
          "data": {
            "text/plain": [
              "[<matplotlib.lines.Line2D at 0x7f17f87ae050>]"
            ]
          },
          "metadata": {},
          "execution_count": 24
        },
        {
          "output_type": "display_data",
          "data": {
            "image/png": "[encoded data removed]",
            "text/plain": [
              "<Figure size 432x288 with 1 Axes>"
            ]
          },
          "metadata": {
            "needs_background": "light"
          }
        }
      ]
    },
    {
      "cell_type": "code",
      "metadata": {
        "colab": {
          "base_uri": "https://localhost:8080/",
          "height": 283
        },
        "id": "dE4gPa0kK5nS",
        "outputId": "7f7dc0fc-7d00-49cd-f599-e63483df06cb"
      },
      "source": [
        "plt.scatter(b,b1, color = '#88c999')"
      ],
      "execution_count": 25,
      "outputs": [
        {
          "output_type": "execute_result",
          "data": {
            "text/plain": [
              "<matplotlib.collections.PathCollection at 0x7f17f8837390>"
            ]
          },
          "metadata": {},
          "execution_count": 25
        },
        {
          "output_type": "display_data",
          "data": {
            "image/png": "[encoded data removed]",
            "text/plain": [
              "<Figure size 432x288 with 1 Axes>"
            ]
          },
          "metadata": {
            "needs_background": "light"
          }
        }
      ]
    },
    {
      "cell_type": "code",
      "metadata": {
        "colab": {
          "base_uri": "https://localhost:8080/",
          "height": 283
        },
        "id": "fNXo6C6VLLdD",
        "outputId": "e43d4455-77c7-4fdb-f494-f6dfade231b7"
      },
      "source": [
        "plt.plot(b,b1, color = 'hotpink')\n",
        "plt.scatter(b,b1, color = '#88c999')\n",
        "plt.show"
      ],
      "execution_count": 27,
      "outputs": [
        {
          "output_type": "execute_result",
          "data": {
            "text/plain": [
              "<function matplotlib.pyplot.show>"
            ]
          },
          "metadata": {},
          "execution_count": 27
        },
        {
          "output_type": "display_data",
          "data": {
            "image/png": "[encoded data removed]",
            "text/plain": [
              "<Figure size 432x288 with 1 Axes>"
            ]
          },
          "metadata": {
            "needs_background": "light"
          }
        }
      ]
    },
    {
      "cell_type": "code",
      "metadata": {
        "id": "HHFixdE7Lf0H"
      },
      "source": [
        ""
      ],
      "execution_count": null,
      "outputs": []
    }
  ]
}