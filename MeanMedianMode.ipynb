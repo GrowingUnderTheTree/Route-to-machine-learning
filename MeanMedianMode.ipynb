{
  "nbformat": 4,
  "nbformat_minor": 0,
  "metadata": {
    "colab": {
      "name": "MeanMedianMode.ipynb",
      "provenance": []
    },
    "kernelspec": {
      "name": "python3",
      "display_name": "Python 3"
    },
    "language_info": {
      "name": "python"
    }
  },
  "cells": [
    {
      "cell_type": "markdown",
      "source": [
        "Mean without numpy"
      ],
      "metadata": {
        "id": "lRv89sR7hxe6"
      }
    },
    {
      "cell_type": "code",
      "source": [
        "cool = [1,34,234,12,6,12,45,65,12,53,23,31]\n",
        "x = (1+34+234+12+6+12+45+65+12+53+23+31)/12\n",
        "print(x)"
      ],
      "metadata": {
        "colab": {
          "base_uri": "https://localhost:8080/"
        },
        "id": "o-GTDM4MhzhV",
        "outputId": "62918230-ba4c-4250-d929-1d427686df8a"
      },
      "execution_count": 1,
      "outputs": [
        {
          "output_type": "stream",
          "name": "stdout",
          "text": [
            "44.0\n"
          ]
        }
      ]
    },
    {
      "cell_type": "markdown",
      "source": [
        "Mean with numpy"
      ],
      "metadata": {
        "id": "BWKptD25iR8A"
      }
    },
    {
      "cell_type": "code",
      "source": [
        "import numpy\n",
        "y = numpy.mean(cool)\n",
        "print(y)"
      ],
      "metadata": {
        "colab": {
          "base_uri": "https://localhost:8080/"
        },
        "id": "DC33yvw1iIwI",
        "outputId": "cf98396f-a10d-4ffe-a38d-c3e4b502f82f"
      },
      "execution_count": 3,
      "outputs": [
        {
          "output_type": "stream",
          "name": "stdout",
          "text": [
            "44.0\n"
          ]
        }
      ]
    },
    {
      "cell_type": "markdown",
      "source": [
        "Median = value in the middle "
      ],
      "metadata": {
        "id": "119x4K7Iic9F"
      }
    },
    {
      "cell_type": "code",
      "source": [
        "z = numpy.median(cool)\n",
        "print(z)"
      ],
      "metadata": {
        "colab": {
          "base_uri": "https://localhost:8080/"
        },
        "id": "VcQhCzmHiX-h",
        "outputId": "e3e52350-82b1-417a-e5c1-7ed9ad13a522"
      },
      "execution_count": 4,
      "outputs": [
        {
          "output_type": "stream",
          "name": "stdout",
          "text": [
            "27.0\n"
          ]
        }
      ]
    },
    {
      "cell_type": "markdown",
      "source": [
        "Mode = number that existed the most"
      ],
      "metadata": {
        "id": "OD5ib52Jip4H"
      }
    },
    {
      "cell_type": "code",
      "source": [
        "from scipy import stats as st\n",
        "xd = [1,34,234,12,6,12,45,65,12,53,23,31,4,12,6,12,45,1,34,234,12,6,12,45,65,12,53,23,31,4,12]\n",
        "a = st.mode(xd)\n",
        "print(a)"
      ],
      "metadata": {
        "colab": {
          "base_uri": "https://localhost:8080/"
        },
        "id": "sbUdiNrsin8F",
        "outputId": "be5b313f-e6f5-4552-eec4-3513c3cf518f"
      },
      "execution_count": 7,
      "outputs": [
        {
          "output_type": "stream",
          "name": "stdout",
          "text": [
            "ModeResult(mode=array([12]), count=array([9]))\n"
          ]
        }
      ]
    },
    {
      "cell_type": "code",
      "source": [
        ""
      ],
      "metadata": {
        "id": "rV4lUImfi6t7"
      },
      "execution_count": null,
      "outputs": []
    }
  ]
}