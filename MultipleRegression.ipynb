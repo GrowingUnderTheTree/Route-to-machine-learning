{
  "nbformat": 4,
  "nbformat_minor": 0,
  "metadata": {
    "colab": {
      "name": "MultipleRegression.ipynb",
      "provenance": [],
      "collapsed_sections": []
    },
    "kernelspec": {
      "name": "python3",
      "display_name": "Python 3"
    },
    "language_info": {
      "name": "python"
    }
  },
  "cells": [
    {
      "cell_type": "code",
      "metadata": {
        "id": "gEVeFeiyYVPS"
      },
      "source": [
        "import pandas\n",
        "from sklearn import linear_model\n",
        "import random as r"
      ],
      "execution_count": 66,
      "outputs": []
    },
    {
      "cell_type": "code",
      "metadata": {
        "id": "qkTd-7upYceJ"
      },
      "source": [
        "df = pandas.read_csv(\"cars.csv\")\n",
        "x = df[['Weight', 'Volume']]\n",
        "y = df['CO2']"
      ],
      "execution_count": 67,
      "outputs": []
    },
    {
      "cell_type": "markdown",
      "metadata": {
        "id": "9iqZKkaJhfRg"
      },
      "source": [
        "https://www.w3schools.com/python/python_ml_multiple_regression.asp\n",
        "The website"
      ]
    },
    {
      "cell_type": "code",
      "metadata": {
        "colab": {
          "base_uri": "https://localhost:8080/"
        },
        "id": "ggGHqcdpZEwj",
        "outputId": "8ef639ec-57b1-4c7d-916d-163db3885b26"
      },
      "source": [
        "lirg = linear_model.LinearRegression()\n",
        "lirg.fit(x,y)\n",
        "\n"
      ],
      "execution_count": 68,
      "outputs": [
        {
          "output_type": "execute_result",
          "data": {
            "text/plain": [
              "LinearRegression()"
            ]
          },
          "metadata": {},
          "execution_count": 68
        }
      ]
    },
    {
      "cell_type": "code",
      "metadata": {
        "colab": {
          "base_uri": "https://localhost:8080/"
        },
        "id": "CQSaJLWkZuaJ",
        "outputId": "38c7ff90-be1a-4f12-9baa-9cca52f80544"
      },
      "source": [
        "first = r.randint(649,946)\n",
        "second = r.randint(310,756)\n",
        "predict = lirg.predict([[first,second]])\n",
        "print(first,second)"
      ],
      "execution_count": 91,
      "outputs": [
        {
          "output_type": "stream",
          "name": "stdout",
          "text": [
            "827 712\n"
          ]
        },
        {
          "output_type": "stream",
          "name": "stderr",
          "text": [
            "/usr/local/lib/python3.7/dist-packages/sklearn/base.py:446: UserWarning: X does not have valid feature names, but LinearRegression was fitted with feature names\n",
            "  \"X does not have valid feature names, but\"\n"
          ]
        }
      ]
    },
    {
      "cell_type": "code",
      "metadata": {
        "colab": {
          "base_uri": "https://localhost:8080/"
        },
        "id": "V3SwzHsnZych",
        "outputId": "f9c37ba5-96f6-48bc-8b88-93f349eebb3f"
      },
      "source": [
        "print(predict)\n",
        "print(lirg.coef_)"
      ],
      "execution_count": 97,
      "outputs": [
        {
          "output_type": "stream",
          "name": "stdout",
          "text": [
            "[91.49669604]\n",
            "[0.00755095 0.00780526]\n"
          ]
        }
      ]
    },
    {
      "cell_type": "code",
      "metadata": {
        "id": "KlWmx1vaaBRR"
      },
      "source": [
        ""
      ],
      "execution_count": null,
      "outputs": []
    }
  ]
}